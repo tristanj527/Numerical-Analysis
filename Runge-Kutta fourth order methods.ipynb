{
 "cells": [
  {
   "cell_type": "code",
   "execution_count": null,
   "metadata": {},
   "outputs": [],
   "source": [
    "def rungeKutta(t0, y0, tn, h): \n",
    "    # Count number of iterations using step size or \n",
    "    # step height h \n",
    "    n = int((tn - t0)/h)  \n",
    "    # Iterate for number of iterations \n",
    "    y = y0 \n",
    "    for i in range(1, n+1): \n",
    "        k1 = h * f(t0, y) \n",
    "        k2 = h * f(t0 + 0.5 * h, y + 0.5 * k1) \n",
    "        k3 = h * f(t0 + 0.5 * h, y + 0.5 * k2) \n",
    "        k4 = h * f(t0 + h, y + k3) \n",
    "        \n",
    "        # Update next value of y \n",
    "        y = y + (1.0 / 6.0)*(k1 + 2 * k2 + 2 * k3 + k4) \n",
    "  \n",
    "        # Update next value of x \n",
    "        t0 = t0 + h \n",
    "    return y"
   ]
  }
 ],
 "metadata": {
  "kernelspec": {
   "display_name": "Python 3",
   "language": "python",
   "name": "python3"
  },
  "language_info": {
   "codemirror_mode": {
    "name": "ipython",
    "version": 3
   },
   "file_extension": ".py",
   "mimetype": "text/x-python",
   "name": "python",
   "nbconvert_exporter": "python",
   "pygments_lexer": "ipython3",
   "version": "3.7.3"
  }
 },
 "nbformat": 4,
 "nbformat_minor": 2
}
