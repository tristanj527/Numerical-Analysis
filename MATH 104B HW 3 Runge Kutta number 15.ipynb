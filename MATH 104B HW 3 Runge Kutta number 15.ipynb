{
 "cells": [
  {
   "cell_type": "code",
   "execution_count": 1,
   "metadata": {},
   "outputs": [],
   "source": [
    "#15  \n",
    "def rungeKutta(t0, y0, tn, h): \n",
    "    # Count number of iterations using step size or \n",
    "    # step height h \n",
    "    n = int((tn - t0)/h)  \n",
    "    # Iterate for number of iterations \n",
    "    y = y0 \n",
    "    for i in range(1, n+1): \n",
    "        k1 = h * f(t0, y) \n",
    "        k2 = h * f(t0 + 0.5 * h, y + 0.5 * k1) \n",
    "        k3 = h * f(t0 + 0.5 * h, y + 0.5 * k2) \n",
    "        k4 = h * f(t0 + h, y + k3) \n",
    "        \n",
    "        # Update next value of y \n",
    "        y = y + (1.0 / 6.0)*(k1 + 2 * k2 + 2 * k3 + k4) \n",
    "  \n",
    "        # Update next value of x \n",
    "        t0 = t0 + h \n",
    "        print('the value of y at ti=',t0, 'is', y)\n",
    "    \n",
    "    "
   ]
  },
  {
   "cell_type": "code",
   "execution_count": 2,
   "metadata": {},
   "outputs": [
    {
     "name": "stdout",
     "output_type": "stream",
     "text": [
      "the value of y at ti= 1.1 is 1.004281503789555\n",
      "the value of y at ti= 1.2000000000000002 is 1.0149520032742692\n",
      "the value of y at ti= 1.3000000000000003 is 1.0298133425892024\n",
      "the value of y at ti= 1.4000000000000004 is 1.0475335582666778\n",
      "the value of y at ti= 1.5000000000000004 is 1.067261987800052\n",
      "the value of y at ti= 1.6000000000000005 is 1.0884323193348484\n",
      "the value of y at ti= 1.7000000000000006 is 1.1106546851565475\n",
      "the value of y at ti= 1.8000000000000007 is 1.1336531911058665\n",
      "the value of y at ti= 1.9000000000000008 is 1.157228068986979\n",
      "the value of y at ti= 2.000000000000001 is 1.181231855722809\n"
     ]
    }
   ],
   "source": [
    "#15a\n",
    "def f(t, y): \n",
    "    return (y/t)-(y/t)**2 \n",
    "rungeKutta(1, 1, 2, 0.1)  \n"
   ]
  },
  {
   "cell_type": "code",
   "execution_count": null,
   "metadata": {},
   "outputs": [],
   "source": [
    "#15b\n",
    "def f(t,y):\n",
    "    return 1+(y/t)+(y/t)**2\n",
    "rungeKutta(1,0,3,0.2)\n"
   ]
  },
  {
   "cell_type": "code",
   "execution_count": 8,
   "metadata": {},
   "outputs": [
    {
     "name": "stdout",
     "output_type": "stream",
     "text": [
      "the value of y at ti= 0.01 is 1282.1572666050674\n",
      "the value of y at ti= 0.02 is 1429.3460464633777\n",
      "the value of y at ti= 0.03 is 1534.2392515676556\n",
      "the value of y at ti= 0.04 is 1614.9988616738324\n",
      "the value of y at ti= 0.05 is 1680.2547350483358\n",
      "the value of y at ti= 0.060000000000000005 is 1734.7599282773408\n",
      "the value of y at ti= 0.07 is 1781.3997697964342\n",
      "the value of y at ti= 0.08 is 1822.0516892043054\n",
      "the value of y at ti= 0.09 is 1858.002740019065\n",
      "the value of y at ti= 0.09999999999999999 is 1890.1719356822236\n",
      "the value of y at ti= 0.10999999999999999 is 1919.23731883759\n",
      "the value of y at ti= 0.11999999999999998 is 1945.712771879829\n",
      "the value of y at ti= 0.12999999999999998 is 1969.9966153011299\n",
      "the value of y at ti= 0.13999999999999999 is 1992.4035443259152\n",
      "the value of y at ti= 0.15 is 2013.1862992956183\n",
      "the value of y at ti= 0.16 is 2032.5507788694263\n",
      "the value of y at ti= 0.17 is 2050.666833642514\n",
      "the value of y at ti= 0.18000000000000002 is 2067.676136762776\n",
      "the value of y at ti= 0.19000000000000003 is 2083.698029427405\n",
      "the value of y at ti= 0.20000000000000004 is 2098.8339337669827\n"
     ]
    }
   ],
   "source": [
    "#27\n",
    "def f(t,x):\n",
    "    return (6.22*10**(-19))*((2*(10**3)-(x/2))**2)*((2*(10**3)-(x/2))**2)*((3*(10**3)-((3*x)/4))**3)\n",
    "rungeKutta(0,0,0.2,0.01)"
   ]
  },
  {
   "cell_type": "code",
   "execution_count": null,
   "metadata": {},
   "outputs": [],
   "source": []
  },
  {
   "cell_type": "code",
   "execution_count": null,
   "metadata": {},
   "outputs": [],
   "source": []
  },
  {
   "cell_type": "code",
   "execution_count": null,
   "metadata": {},
   "outputs": [],
   "source": []
  }
 ],
 "metadata": {
  "kernelspec": {
   "display_name": "Python 3",
   "language": "python",
   "name": "python3"
  },
  "language_info": {
   "codemirror_mode": {
    "name": "ipython",
    "version": 3
   },
   "file_extension": ".py",
   "mimetype": "text/x-python",
   "name": "python",
   "nbconvert_exporter": "python",
   "pygments_lexer": "ipython3",
   "version": "3.7.3"
  }
 },
 "nbformat": 4,
 "nbformat_minor": 2
}
